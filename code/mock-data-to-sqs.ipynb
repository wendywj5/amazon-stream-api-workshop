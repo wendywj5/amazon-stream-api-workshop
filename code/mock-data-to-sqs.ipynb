{
 "cells": [
  {
   "cell_type": "code",
   "execution_count": 6,
   "id": "a16de3c1",
   "metadata": {},
   "outputs": [],
   "source": [
    "import boto3\n",
    "from botocore.exceptions import ClientError\n",
    "\n",
    "# Get the service resource\n",
    "sqsClient = boto3.client('sqs')\n",
    "#queueUrl = 'https://sqs.us-east-1.amazonaws.com/521981389199/sp-traffic-mock'\n",
    "\n",
    "def send_SQS_msg(queueUrl, msgData):\n",
    "    try:\n",
    "        if msgData:\n",
    "            response = sqsClient.send_message( \n",
    "                QueueUrl= queueUrl,\n",
    "                MessageBody = msgData )\n",
    "            print(\"Number of failed Messages: %s\" % response.get('Failed'))\n",
    "    except ClientError as error:\n",
    "        # Print out any failures\n",
    "        pass\n",
    "        print(\"Failed to send to : %s\" % queueUrl)"
   ]
  },
  {
   "cell_type": "code",
   "execution_count": 7,
   "id": "c0c3a1b9",
   "metadata": {},
   "outputs": [],
   "source": [
    "# read from sample data\n",
    "sample_file = open('/Users/hwenjing/workspace/amz-marketing-stream-workshop/sample-data/sp-traffic-data.txt', 'r')\n",
    "  \n",
    "sample_data = []\n",
    "# Using for loop\n",
    "for line in sample_file:\n",
    "    sample_data.append(line)\n",
    "\n",
    "sample_file.close()"
   ]
  },
  {
   "cell_type": "code",
   "execution_count": 8,
   "id": "387bc4e7",
   "metadata": {},
   "outputs": [],
   "source": [
    "def send_message_to_aws_sqs(accounts):\n",
    "    prefix = 'https://sqs.us-east-1.amazonaws.com/'\n",
    "    suffix = '/sp-traffic-mock'\n",
    "    queueUrls = []\n",
    "    \n",
    "    for i in range(len(accounts)):\n",
    "        url = prefix + accounts[i] + suffix\n",
    "        print (url)\n",
    "        queueUrls.append(url)\n",
    "        \n",
    "    for i in range(len(sample_data)):\n",
    "        for j in range (len(accounts)):\n",
    "            send_SQS_msg(queueUrls[j],sample_data[i])"
   ]
  },
  {
   "cell_type": "code",
   "execution_count": 23,
   "id": "54564a32",
   "metadata": {},
   "outputs": [
    {
     "name": "stdout",
     "output_type": "stream",
     "text": [
      "https://sqs.us-east-1.amazonaws.com/521981389199/sp-traffic-mock\n",
      "Number of failed Messages: None\n",
      "Number of failed Messages: None\n",
      "Number of failed Messages: None\n",
      "Number of failed Messages: None\n",
      "Number of failed Messages: None\n",
      "Number of failed Messages: None\n",
      "Number of failed Messages: None\n",
      "Number of failed Messages: None\n",
      "Number of failed Messages: None\n",
      "Number of failed Messages: None\n",
      "Number of failed Messages: None\n",
      "Number of failed Messages: None\n",
      "Number of failed Messages: None\n",
      "Number of failed Messages: None\n",
      "Number of failed Messages: None\n",
      "Number of failed Messages: None\n"
     ]
    }
   ],
   "source": [
    "accounts = ['521981389199']\n",
    "\n",
    "send_message_to_aws_sqs(accounts)"
   ]
  },
  {
   "cell_type": "code",
   "execution_count": null,
   "id": "d2ba4d8e",
   "metadata": {},
   "outputs": [],
   "source": []
  }
 ],
 "metadata": {
  "kernelspec": {
   "display_name": "Python 3 (ipykernel)",
   "language": "python",
   "name": "python3"
  },
  "language_info": {
   "codemirror_mode": {
    "name": "ipython",
    "version": 3
   },
   "file_extension": ".py",
   "mimetype": "text/x-python",
   "name": "python",
   "nbconvert_exporter": "python",
   "pygments_lexer": "ipython3",
   "version": "3.9.1"
  }
 },
 "nbformat": 4,
 "nbformat_minor": 5
}
