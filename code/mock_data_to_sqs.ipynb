{
 "cells": [
  {
   "cell_type": "code",
   "execution_count": 6,
   "id": "a16de3c1",
   "metadata": {},
   "outputs": [],
   "source": [
    "import boto3\n",
    "import awswrangler as wr"
   ]
  },
  {
   "cell_type": "code",
   "execution_count": 57,
   "id": "d2ba4d8e",
   "metadata": {},
   "outputs": [],
   "source": [
    "df1 = wr.athena.read_sql_query('''\n",
    "SELECT campaign_id, \n",
    "    SUM(cost) AS cost, \n",
    "    SUM(impressions) AS impressions, \n",
    "    SUM(clicks) AS clicks,\n",
    "    SUM(cost) / SUM(clicks)   AS cpc\n",
    "FROM \n",
    "    sp_traffic \n",
    "WHERE \n",
    "    match_type IN('TARGETING_EXPRESSION_PREDEFINED','TARGETING_EXPRESSION') \n",
    "    AND cast(from_iso8601_timestamp(time_window_start) as date) >  date_add('day',-5,current_date) \n",
    "GROUP BY \n",
    "    campaign_id \n",
    "HAVING\n",
    "    SUM(cost) / SUM(clicks) > 0.6''', database=\"stream_sp_traffic\")"
   ]
  },
  {
   "cell_type": "code",
   "execution_count": 58,
   "id": "299bf066",
   "metadata": {},
   "outputs": [
    {
     "name": "stdout",
     "output_type": "stream",
     "text": [
      "       campaign_id   cost  impressions  clicks    cpc\n",
      "0  185402650650808  10.02         3590      15  0.668\n"
     ]
    }
   ],
   "source": [
    "print(df1.to_string())"
   ]
  },
  {
   "cell_type": "code",
   "execution_count": 192,
   "id": "0eec2b9b",
   "metadata": {},
   "outputs": [
    {
     "ename": "SyntaxError",
     "evalue": "expression cannot contain assignment, perhaps you meant \"==\"? (1560536985.py, line 8)",
     "output_type": "error",
     "traceback": [
      "\u001b[0;36m  Input \u001b[0;32mIn [192]\u001b[0;36m\u001b[0m\n\u001b[0;31m    Attributes={\u001b[0m\n\u001b[0m    ^\u001b[0m\n\u001b[0;31mSyntaxError\u001b[0m\u001b[0;31m:\u001b[0m expression cannot contain assignment, perhaps you meant \"==\"?\n"
     ]
    }
   ],
   "source": [
    "######### SNS Budget ##########\n",
    "\n",
    "# use sns subscription\n",
    "def subscribeSns(snsClient, endpoint):\n",
    "    response = snsClient.subscribe(\n",
    "        TopicArn='arn:aws:sns:us-east-1:521981389199:stream_budget',\n",
    "        Protocol='sqs',\n",
    "        Endpoint=endpoint,\n",
    "        ReturnSubscriptionArn=True,\n",
    "        Attributes={\n",
    "            'RawMessageDelivery': 'True'\n",
    "        }\n",
    "    )\n",
    "    print (response)\n",
    "\n",
    "def subscribe_to_sns(snsClient, accounts):\n",
    "    prefix = 'arn:aws:sqs:us-east-1:'\n",
    "    suffix = ':budget-usage'\n",
    "#    suffix = ':testqueue'\n",
    "\n",
    "    for i in range(len(accounts)):\n",
    "        endpoint = prefix + accounts[i] + suffix\n",
    "        print (endpoint)\n",
    "        subscribeSns(snsClient, endpoint)\n",
    "        \n",
    "snsClient = boto3.client('sns')\n",
    "\n",
    "#accounts = ['521981389199','551344820358']\n",
    "accounts = ['551344820358']\n",
    "\n",
    "#accounts = ['521981389199']\n",
    "            \n",
    "subscribe_to_sns(snsClient, accounts)"
   ]
  },
  {
   "cell_type": "code",
   "execution_count": 197,
   "id": "155839bd",
   "metadata": {},
   "outputs": [
    {
     "name": "stdout",
     "output_type": "stream",
     "text": [
      "{'MessageId': 'b2d91b67-358d-5585-9e97-40ae980c464f', 'ResponseMetadata': {'RequestId': 'dba43a6d-795e-5f79-8c20-61a4d4dfecb3', 'HTTPStatusCode': 200, 'HTTPHeaders': {'x-amzn-requestid': 'dba43a6d-795e-5f79-8c20-61a4d4dfecb3', 'content-type': 'text/xml', 'content-length': '294', 'date': 'Wed, 19 Oct 2022 07:46:08 GMT'}, 'RetryAttempts': 0}}\n",
      "{'MessageId': '1f5752df-2170-53a5-bc2d-09168cf1706f', 'ResponseMetadata': {'RequestId': '94d68949-fa8e-5ed8-9081-d280570f5d12', 'HTTPStatusCode': 200, 'HTTPHeaders': {'x-amzn-requestid': '94d68949-fa8e-5ed8-9081-d280570f5d12', 'content-type': 'text/xml', 'content-length': '294', 'date': 'Wed, 19 Oct 2022 07:46:08 GMT'}, 'RetryAttempts': 0}}\n",
      "{'MessageId': 'b3978acb-77cd-50fb-b08b-d102da4f2331', 'ResponseMetadata': {'RequestId': '0d9ea2a9-5c78-52e9-89b3-f960f1fa7123', 'HTTPStatusCode': 200, 'HTTPHeaders': {'x-amzn-requestid': '0d9ea2a9-5c78-52e9-89b3-f960f1fa7123', 'content-type': 'text/xml', 'content-length': '294', 'date': 'Wed, 19 Oct 2022 07:46:10 GMT'}, 'RetryAttempts': 0}}\n",
      "{'MessageId': '8355a941-9f5c-50f6-92f6-f28832dee33c', 'ResponseMetadata': {'RequestId': '8f707b31-106a-56d6-adc2-20f8bde8f51c', 'HTTPStatusCode': 200, 'HTTPHeaders': {'x-amzn-requestid': '8f707b31-106a-56d6-adc2-20f8bde8f51c', 'content-type': 'text/xml', 'content-length': '294', 'date': 'Wed, 19 Oct 2022 07:46:10 GMT'}, 'RetryAttempts': 0}}\n",
      "{'MessageId': 'c4482a99-ab19-5ec1-8310-7150069a8d0b', 'ResponseMetadata': {'RequestId': '2656e767-a4d8-58d2-910f-bcae095b1b18', 'HTTPStatusCode': 200, 'HTTPHeaders': {'x-amzn-requestid': '2656e767-a4d8-58d2-910f-bcae095b1b18', 'content-type': 'text/xml', 'content-length': '294', 'date': 'Wed, 19 Oct 2022 07:46:11 GMT'}, 'RetryAttempts': 0}}\n",
      "{'MessageId': 'e975b277-a3d2-533b-b9ad-e9be0e51e0f1', 'ResponseMetadata': {'RequestId': '2433d155-4232-5a5c-a50d-8a9cefb1a996', 'HTTPStatusCode': 200, 'HTTPHeaders': {'x-amzn-requestid': '2433d155-4232-5a5c-a50d-8a9cefb1a996', 'content-type': 'text/xml', 'content-length': '294', 'date': 'Wed, 19 Oct 2022 07:46:11 GMT'}, 'RetryAttempts': 0}}\n"
     ]
    }
   ],
   "source": [
    "# send SNS message\n",
    "def send_sns_msg(message):\n",
    "    response = snsClient.publish(\n",
    "        TopicArn='arn:aws:sns:us-east-1:521981389199:stream_budget',\n",
    "        Message= message\n",
    "    )\n",
    "    print (response)\n",
    "    \n",
    "# read from budget sample data\n",
    "sample_budget_file = open('/Users/hwenjing/workspace/amz-marketing-stream-workshop/sample-data/budget-usage-data.txt', 'r')\n",
    "  \n",
    "sample_budget = []\n",
    "# Using for loop\n",
    "for line in sample_budget_file:\n",
    "    sample_budget.append(line)\n",
    "\n",
    "sample_budget_file.close()\n",
    "\n",
    "\n",
    "for i in range(len(sample_budget)):\n",
    "    for j in range (len(accounts)):\n",
    "        send_sns_msg(sample_budget[i])\n"
   ]
  },
  {
   "cell_type": "code",
   "execution_count": 199,
   "id": "b37d288f",
   "metadata": {},
   "outputs": [
    {
     "name": "stdout",
     "output_type": "stream",
     "text": [
      "arn:aws:sqs:us-east-1:521981389199:sp-traffic-mock\n",
      "{'SubscriptionArn': 'arn:aws:sns:us-east-1:521981389199:stream_traffic:20de777d-9e0e-45fd-a61c-2a0f28962a90', 'ResponseMetadata': {'RequestId': '9d9d4250-1c76-55a5-8982-1999dd98a4ec', 'HTTPStatusCode': 200, 'HTTPHeaders': {'x-amzn-requestid': '9d9d4250-1c76-55a5-8982-1999dd98a4ec', 'content-type': 'text/xml', 'content-length': '364', 'date': 'Wed, 19 Oct 2022 09:13:17 GMT'}, 'RetryAttempts': 0}}\n"
     ]
    }
   ],
   "source": [
    "######### SNS sp-traffic ##########\n",
    "\n",
    "# use sns subscription\n",
    "def subscribeTrafficSns(snsClient, endpoint):\n",
    "    response = snsClient.subscribe(\n",
    "        TopicArn='arn:aws:sns:us-east-1:521981389199:stream_traffic',\n",
    "        Protocol='sqs',\n",
    "        Endpoint=endpoint,\n",
    "        ReturnSubscriptionArn=True,\n",
    "        Attributes={\n",
    "            'RawMessageDelivery': 'True'\n",
    "        }\n",
    "    )\n",
    "    print (response)\n",
    "\n",
    "def subscribe_to_sns(snsClient, accounts):\n",
    "    prefix = 'arn:aws:sqs:us-east-1:'\n",
    "#    suffix = ':budget-usage'\n",
    "    suffix = ':sp-traffic-mock'\n",
    "\n",
    "    for i in range(len(accounts)):\n",
    "        endpoint = prefix + accounts[i] + suffix\n",
    "        print (endpoint)\n",
    "        subscribeTrafficSns(snsClient, endpoint)\n",
    "        \n",
    "snsClient = boto3.client('sns')\n",
    "\n",
    "#accounts = ['521981389199','551344820358']\n",
    "#accounts = ['551344820358']\n",
    "\n",
    "accounts = ['521981389199']\n",
    "            \n",
    "subscribe_to_sns(snsClient, accounts)\n"
   ]
  },
  {
   "cell_type": "code",
   "execution_count": 200,
   "id": "0bdb4f65",
   "metadata": {
    "scrolled": true
   },
   "outputs": [
    {
     "name": "stdout",
     "output_type": "stream",
     "text": [
      "{'MessageId': '53ed946d-2432-51a2-8926-cfa4e63f1982', 'ResponseMetadata': {'RequestId': 'fd3ebdd1-3fef-516d-8525-e618fde2594d', 'HTTPStatusCode': 200, 'HTTPHeaders': {'x-amzn-requestid': 'fd3ebdd1-3fef-516d-8525-e618fde2594d', 'content-type': 'text/xml', 'content-length': '294', 'date': 'Wed, 19 Oct 2022 09:13:48 GMT'}, 'RetryAttempts': 0}}\n",
      "{'MessageId': 'dfc54a07-fe8b-5f11-9b39-11ce3c867731', 'ResponseMetadata': {'RequestId': '62ced103-1a5b-5520-82ea-8acad856ad00', 'HTTPStatusCode': 200, 'HTTPHeaders': {'x-amzn-requestid': '62ced103-1a5b-5520-82ea-8acad856ad00', 'content-type': 'text/xml', 'content-length': '294', 'date': 'Wed, 19 Oct 2022 09:13:48 GMT'}, 'RetryAttempts': 0}}\n",
      "{'MessageId': '5d3aa4f8-4a1d-514b-a673-ff318813e96b', 'ResponseMetadata': {'RequestId': 'bf5eac8c-60dc-50c8-8f58-f745a2d2a8e8', 'HTTPStatusCode': 200, 'HTTPHeaders': {'x-amzn-requestid': 'bf5eac8c-60dc-50c8-8f58-f745a2d2a8e8', 'content-type': 'text/xml', 'content-length': '294', 'date': 'Wed, 19 Oct 2022 09:13:49 GMT'}, 'RetryAttempts': 0}}\n",
      "{'MessageId': '1f676313-c129-5370-bf00-38da0327cb50', 'ResponseMetadata': {'RequestId': '7fa169a8-360c-53b2-a754-3261f4027b92', 'HTTPStatusCode': 200, 'HTTPHeaders': {'x-amzn-requestid': '7fa169a8-360c-53b2-a754-3261f4027b92', 'content-type': 'text/xml', 'content-length': '294', 'date': 'Wed, 19 Oct 2022 09:13:49 GMT'}, 'RetryAttempts': 0}}\n",
      "{'MessageId': '765844ea-c727-550a-b664-1f2305280d2a', 'ResponseMetadata': {'RequestId': '01cc4ab2-94ac-5456-b0f8-117b56a3bc76', 'HTTPStatusCode': 200, 'HTTPHeaders': {'x-amzn-requestid': '01cc4ab2-94ac-5456-b0f8-117b56a3bc76', 'content-type': 'text/xml', 'content-length': '294', 'date': 'Wed, 19 Oct 2022 09:13:50 GMT'}, 'RetryAttempts': 0}}\n",
      "{'MessageId': '48976b6d-dd7f-5c71-a6d0-30a41f70a451', 'ResponseMetadata': {'RequestId': 'c8b734eb-e465-5291-be5f-6f22266a5ab1', 'HTTPStatusCode': 200, 'HTTPHeaders': {'x-amzn-requestid': 'c8b734eb-e465-5291-be5f-6f22266a5ab1', 'content-type': 'text/xml', 'content-length': '294', 'date': 'Wed, 19 Oct 2022 09:13:50 GMT'}, 'RetryAttempts': 0}}\n",
      "{'MessageId': 'cde33fdc-ee7a-582f-828f-64152c75900f', 'ResponseMetadata': {'RequestId': '2c0acacb-151c-50cd-895f-9102d713c8ed', 'HTTPStatusCode': 200, 'HTTPHeaders': {'x-amzn-requestid': '2c0acacb-151c-50cd-895f-9102d713c8ed', 'content-type': 'text/xml', 'content-length': '294', 'date': 'Wed, 19 Oct 2022 09:13:51 GMT'}, 'RetryAttempts': 0}}\n",
      "{'MessageId': '50163688-4c0a-51ab-83df-6d418e1aa98b', 'ResponseMetadata': {'RequestId': '08e8a55f-9068-5e14-b29c-fe9652780634', 'HTTPStatusCode': 200, 'HTTPHeaders': {'x-amzn-requestid': '08e8a55f-9068-5e14-b29c-fe9652780634', 'content-type': 'text/xml', 'content-length': '294', 'date': 'Wed, 19 Oct 2022 09:13:51 GMT'}, 'RetryAttempts': 0}}\n",
      "{'MessageId': '1ab3cd35-72ce-5008-bbde-96fcb0dce828', 'ResponseMetadata': {'RequestId': 'b2319b65-3d93-5fb9-8f70-c0acff81b799', 'HTTPStatusCode': 200, 'HTTPHeaders': {'x-amzn-requestid': 'b2319b65-3d93-5fb9-8f70-c0acff81b799', 'content-type': 'text/xml', 'content-length': '294', 'date': 'Wed, 19 Oct 2022 09:13:53 GMT'}, 'RetryAttempts': 0}}\n",
      "{'MessageId': 'f4074b3a-f095-5d2e-9c72-10f33286b50e', 'ResponseMetadata': {'RequestId': '0e222f0b-6a36-5760-9aec-74c2a8259f40', 'HTTPStatusCode': 200, 'HTTPHeaders': {'x-amzn-requestid': '0e222f0b-6a36-5760-9aec-74c2a8259f40', 'content-type': 'text/xml', 'content-length': '294', 'date': 'Wed, 19 Oct 2022 09:13:54 GMT'}, 'RetryAttempts': 0}}\n",
      "{'MessageId': 'b6ab9582-c580-537a-8e1c-ce4b07942b5a', 'ResponseMetadata': {'RequestId': 'd7574cab-eac6-5822-8929-176228d20002', 'HTTPStatusCode': 200, 'HTTPHeaders': {'x-amzn-requestid': 'd7574cab-eac6-5822-8929-176228d20002', 'content-type': 'text/xml', 'content-length': '294', 'date': 'Wed, 19 Oct 2022 09:13:55 GMT'}, 'RetryAttempts': 0}}\n",
      "{'MessageId': '8dd7e981-68e0-574d-a0d5-b248aaf4cf6d', 'ResponseMetadata': {'RequestId': '37aaed72-b979-506a-80f6-b6bb7b6d284a', 'HTTPStatusCode': 200, 'HTTPHeaders': {'x-amzn-requestid': '37aaed72-b979-506a-80f6-b6bb7b6d284a', 'content-type': 'text/xml', 'content-length': '294', 'date': 'Wed, 19 Oct 2022 09:13:55 GMT'}, 'RetryAttempts': 0}}\n",
      "{'MessageId': '77331070-3218-5f2a-a280-4bb9f00c570a', 'ResponseMetadata': {'RequestId': '437cf651-e01e-534c-a574-ad98220a5b6c', 'HTTPStatusCode': 200, 'HTTPHeaders': {'x-amzn-requestid': '437cf651-e01e-534c-a574-ad98220a5b6c', 'content-type': 'text/xml', 'content-length': '294', 'date': 'Wed, 19 Oct 2022 09:13:56 GMT'}, 'RetryAttempts': 0}}\n",
      "{'MessageId': '8ba32347-71e2-5782-84ef-788eb3f71fa2', 'ResponseMetadata': {'RequestId': 'e4c9f214-82ef-59fe-838a-a9dd40fa11de', 'HTTPStatusCode': 200, 'HTTPHeaders': {'x-amzn-requestid': 'e4c9f214-82ef-59fe-838a-a9dd40fa11de', 'content-type': 'text/xml', 'content-length': '294', 'date': 'Wed, 19 Oct 2022 09:13:56 GMT'}, 'RetryAttempts': 0}}\n",
      "{'MessageId': '602e1f91-8047-5c36-aeeb-445842525416', 'ResponseMetadata': {'RequestId': 'b859004b-1661-54c0-9535-5b82d4742ce0', 'HTTPStatusCode': 200, 'HTTPHeaders': {'x-amzn-requestid': 'b859004b-1661-54c0-9535-5b82d4742ce0', 'content-type': 'text/xml', 'content-length': '294', 'date': 'Wed, 19 Oct 2022 09:13:56 GMT'}, 'RetryAttempts': 0}}\n",
      "{'MessageId': 'b0682aa9-0b18-5e59-86b1-7160c90ee679', 'ResponseMetadata': {'RequestId': '6508c028-250b-5461-9b07-9be1e71d6c41', 'HTTPStatusCode': 200, 'HTTPHeaders': {'x-amzn-requestid': '6508c028-250b-5461-9b07-9be1e71d6c41', 'content-type': 'text/xml', 'content-length': '294', 'date': 'Wed, 19 Oct 2022 09:13:57 GMT'}, 'RetryAttempts': 0}}\n"
     ]
    }
   ],
   "source": [
    "# send SNS message\n",
    "def send_traffic_sns_msg(message):\n",
    "    response = snsClient.publish(\n",
    "        TopicArn='arn:aws:sns:us-east-1:521981389199:stream_traffic',\n",
    "        Message= message\n",
    "    )\n",
    "    print (response)\n",
    "    \n",
    "# read from budget sample data\n",
    "sample_traffic_file = open('/Users/hwenjing/workspace/amz-marketing-stream-workshop/sample-data/sp-traffic-data.txt', 'r')\n",
    "  \n",
    "sample_traffic = []\n",
    "# Using for loop\n",
    "for line in sample_traffic_file:\n",
    "    sample_traffic.append(line)\n",
    "\n",
    "sample_traffic_file.close()\n",
    "\n",
    "\n",
    "for i in range(len(sample_traffic)):\n",
    "    for j in range (len(accounts)):\n",
    "        send_traffic_sns_msg(sample_traffic[i])\n"
   ]
  },
  {
   "cell_type": "code",
   "execution_count": null,
   "id": "b40aafef",
   "metadata": {},
   "outputs": [],
   "source": []
  }
 ],
 "metadata": {
  "kernelspec": {
   "display_name": "Python 3 (ipykernel)",
   "language": "python",
   "name": "python3"
  },
  "language_info": {
   "codemirror_mode": {
    "name": "ipython",
    "version": 3
   },
   "file_extension": ".py",
   "mimetype": "text/x-python",
   "name": "python",
   "nbconvert_exporter": "python",
   "pygments_lexer": "ipython3",
   "version": "3.9.1"
  }
 },
 "nbformat": 4,
 "nbformat_minor": 5
}
